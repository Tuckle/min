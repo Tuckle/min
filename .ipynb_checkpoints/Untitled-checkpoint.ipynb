{
 "cells": [
  {
   "cell_type": "code",
   "execution_count": null,
   "metadata": {},
   "outputs": [],
   "source": [
    "import os\n",
    "import csv\n",
    "import datetime\n",
    "\n",
    "# head = \"\",\"Time\",\"Tp\",\"Cl\",\"pH\",\"Redox\",\"Leit\",\"Trueb\",\"Cl_2\",\"Fm\",\"Fm_2\",\"EVENT\"\n",
    "csv_path = r\"csv file path\"\n",
    "\n",
    "def read_data(path):\n",
    "\tdef _convert(row):\n",
    "\t\treturn int(row[0]), datetime.datetime.strptime(row[1], \"%Y-%m-%d %H:%M:%S\"), float(row[2]), float(row[3]), float(row[4]), int(row[5]), int(row[6]), float(row[7]), float(row[8]), int(row[9]), int(row[10]), eval(row[11].capitalize())\n",
    "\twith open(path) as f:\n",
    "\t\tc = csv.reader(f, delimiter=\",\")\n",
    "\t\tfor line in c:\n",
    "\t\t\tline = _convert(line)\n",
    "\t\t\tyield line\n",
    "\n",
    "\n",
    "data = list(read_data(csv_path))\n"
   ]
  }
 ],
 "metadata": {
  "kernelspec": {
   "display_name": "Python 3",
   "language": "python",
   "name": "python3"
  },
  "language_info": {
   "codemirror_mode": {
    "name": "ipython",
    "version": 3
   },
   "file_extension": ".py",
   "mimetype": "text/x-python",
   "name": "python",
   "nbconvert_exporter": "python",
   "pygments_lexer": "ipython3",
   "version": "3.7.1"
  }
 },
 "nbformat": 4,
 "nbformat_minor": 2
}
